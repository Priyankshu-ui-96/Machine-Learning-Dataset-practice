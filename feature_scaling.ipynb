{
  "nbformat": 4,
  "nbformat_minor": 0,
  "metadata": {
    "colab": {
      "name": "feature_scaling.ipynb",
      "provenance": [],
      "mount_file_id": "1tGi8-wgdxOGgJ1YD9WA2La8-Fw1GErTk",
      "authorship_tag": "ABX9TyM5xDLGG1+KA94sms2vtzPc",
      "include_colab_link": true
    },
    "kernelspec": {
      "name": "python3",
      "display_name": "Python 3"
    },
    "language_info": {
      "name": "python"
    }
  },
  "cells": [
    {
      "cell_type": "markdown",
      "metadata": {
        "id": "view-in-github",
        "colab_type": "text"
      },
      "source": [
        "<a href=\"https://colab.research.google.com/github/Priyankshu-ui-96/Machine-Learning-Dataset-practice/blob/main/feature_scaling.ipynb\" target=\"_parent\"><img src=\"https://colab.research.google.com/assets/colab-badge.svg\" alt=\"Open In Colab\"/></a>"
      ]
    },
    {
      "cell_type": "code",
      "metadata": {
        "id": "_sLatmDoUVFU"
      },
      "source": [
        "import numpy as np \n",
        "import pandas as pd \n",
        "import matplotlib.pyplot as plt\n",
        "from sklearn import preprocessing "
      ],
      "execution_count": 2,
      "outputs": []
    },
    {
      "cell_type": "code",
      "metadata": {
        "colab": {
          "base_uri": "https://localhost:8080/",
          "height": 204
        },
        "id": "tziZ4q-OVuja",
        "outputId": "04b59bc4-e1fc-43d1-fa79-3007a6147531"
      },
      "source": [
        "data_set = pd.read_csv(\"/content/drive/MyDrive/Data Analytics/housingML/Data_for_Missing_Values.csv\")\n",
        "data_set.head()"
      ],
      "execution_count": 3,
      "outputs": [
        {
          "output_type": "execute_result",
          "data": {
            "text/html": [
              "<div>\n",
              "<style scoped>\n",
              "    .dataframe tbody tr th:only-of-type {\n",
              "        vertical-align: middle;\n",
              "    }\n",
              "\n",
              "    .dataframe tbody tr th {\n",
              "        vertical-align: top;\n",
              "    }\n",
              "\n",
              "    .dataframe thead th {\n",
              "        text-align: right;\n",
              "    }\n",
              "</style>\n",
              "<table border=\"1\" class=\"dataframe\">\n",
              "  <thead>\n",
              "    <tr style=\"text-align: right;\">\n",
              "      <th></th>\n",
              "      <th>Country</th>\n",
              "      <th>Age</th>\n",
              "      <th>Salary</th>\n",
              "      <th>Purchased</th>\n",
              "    </tr>\n",
              "  </thead>\n",
              "  <tbody>\n",
              "    <tr>\n",
              "      <th>0</th>\n",
              "      <td>France</td>\n",
              "      <td>44.0</td>\n",
              "      <td>72000.0</td>\n",
              "      <td>No</td>\n",
              "    </tr>\n",
              "    <tr>\n",
              "      <th>1</th>\n",
              "      <td>Spain</td>\n",
              "      <td>27.0</td>\n",
              "      <td>48000.0</td>\n",
              "      <td>Yes</td>\n",
              "    </tr>\n",
              "    <tr>\n",
              "      <th>2</th>\n",
              "      <td>Germany</td>\n",
              "      <td>30.0</td>\n",
              "      <td>54000.0</td>\n",
              "      <td>No</td>\n",
              "    </tr>\n",
              "    <tr>\n",
              "      <th>3</th>\n",
              "      <td>Spain</td>\n",
              "      <td>38.0</td>\n",
              "      <td>61000.0</td>\n",
              "      <td>No</td>\n",
              "    </tr>\n",
              "    <tr>\n",
              "      <th>4</th>\n",
              "      <td>Germany</td>\n",
              "      <td>40.0</td>\n",
              "      <td>NaN</td>\n",
              "      <td>Yes</td>\n",
              "    </tr>\n",
              "  </tbody>\n",
              "</table>\n",
              "</div>"
            ],
            "text/plain": [
              "   Country   Age   Salary Purchased\n",
              "0   France  44.0  72000.0        No\n",
              "1    Spain  27.0  48000.0       Yes\n",
              "2  Germany  30.0  54000.0        No\n",
              "3    Spain  38.0  61000.0        No\n",
              "4  Germany  40.0      NaN       Yes"
            ]
          },
          "metadata": {},
          "execution_count": 3
        }
      ]
    },
    {
      "cell_type": "code",
      "metadata": {
        "colab": {
          "base_uri": "https://localhost:8080/"
        },
        "id": "4cuidNvfWaET",
        "outputId": "6bd5051b-0a73-4e87-936d-8daab83e3893"
      },
      "source": [
        "x= data_set.iloc[: , 1:3].values\n",
        "print(\"\\noriginal data values:\\n\", x)"
      ],
      "execution_count": 6,
      "outputs": [
        {
          "output_type": "stream",
          "text": [
            "\n",
            "original data values:\n",
            " [[4.4e+01 7.2e+04]\n",
            " [2.7e+01 4.8e+04]\n",
            " [3.0e+01 5.4e+04]\n",
            " [3.8e+01 6.1e+04]\n",
            " [4.0e+01     nan]\n",
            " [3.5e+01 5.8e+04]\n",
            " [    nan 5.2e+04]\n",
            " [4.8e+01 7.9e+04]\n",
            " [5.0e+01 8.3e+04]\n",
            " [3.7e+01 6.7e+04]]\n"
          ],
          "name": "stdout"
        }
      ]
    },
    {
      "cell_type": "code",
      "metadata": {
        "colab": {
          "base_uri": "https://localhost:8080/"
        },
        "id": "DuPvS6-2XH_l",
        "outputId": "09938a40-def1-4e69-9866-5be7b9a2d379"
      },
      "source": [
        "from sklearn import preprocessing\n",
        "normal = preprocessing.MinMaxScaler(feature_range=(0,1))\n",
        "x_after_normalization = normal.fit_transform(x)\n",
        "print(\"\\n after normalization :\\n\" ,x_after_normalization)"
      ],
      "execution_count": 8,
      "outputs": [
        {
          "output_type": "stream",
          "text": [
            "\n",
            " after normalization :\n",
            " [[0.73913043 0.68571429]\n",
            " [0.         0.        ]\n",
            " [0.13043478 0.17142857]\n",
            " [0.47826087 0.37142857]\n",
            " [0.56521739        nan]\n",
            " [0.34782609 0.28571429]\n",
            " [       nan 0.11428571]\n",
            " [0.91304348 0.88571429]\n",
            " [1.         1.        ]\n",
            " [0.43478261 0.54285714]]\n"
          ],
          "name": "stdout"
        }
      ]
    },
    {
      "cell_type": "code",
      "metadata": {
        "colab": {
          "base_uri": "https://localhost:8080/"
        },
        "id": "PpePY0l2YcUs",
        "outputId": "57fe3ead-a4a1-43d5-9fba-4da0a567d5db"
      },
      "source": [
        "standard = preprocessing.StandardScaler()\n",
        "x_after_standardization = standard.fit_transform(x)\n",
        "print(\"\\n after standardization :\\n\", x_after_standardization)"
      ],
      "execution_count": 9,
      "outputs": [
        {
          "output_type": "stream",
          "text": [
            "\n",
            " after standardization :\n",
            " [[ 0.71993143  0.71101276]\n",
            " [-1.62367514 -1.36437583]\n",
            " [-1.21009751 -0.84552869]\n",
            " [-0.10722383 -0.24020701]\n",
            " [ 0.16849459         nan]\n",
            " [-0.52080146 -0.49963059]\n",
            " [        nan -1.01847774]\n",
            " [ 1.27136827  1.31633443]\n",
            " [ 1.54708669  1.66223253]\n",
            " [-0.24508304  0.27864014]]\n"
          ],
          "name": "stdout"
        }
      ]
    }
  ]
}