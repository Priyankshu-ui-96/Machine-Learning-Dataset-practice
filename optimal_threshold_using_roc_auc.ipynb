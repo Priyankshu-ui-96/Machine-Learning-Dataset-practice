{
  "nbformat": 4,
  "nbformat_minor": 0,
  "metadata": {
    "colab": {
      "name": "optimal_threshold_using_roc_auc.ipynb",
      "provenance": [],
      "authorship_tag": "ABX9TyPYVJMuAdIXDWvJeBtqUqwO",
      "include_colab_link": true
    },
    "kernelspec": {
      "name": "python3",
      "display_name": "Python 3"
    },
    "language_info": {
      "name": "python"
    }
  },
  "cells": [
    {
      "cell_type": "markdown",
      "metadata": {
        "id": "view-in-github",
        "colab_type": "text"
      },
      "source": [
        "<a href=\"https://colab.research.google.com/github/Priyankshu-ui-96/Machine-Learning-Dataset-practice/blob/main/optimal_threshold_using_roc_auc.ipynb\" target=\"_parent\"><img src=\"https://colab.research.google.com/assets/colab-badge.svg\" alt=\"Open In Colab\"/></a>"
      ]
    },
    {
      "cell_type": "code",
      "metadata": {
        "id": "NPBfk2dK-yE8"
      },
      "source": [
        "import numpy as np \n",
        "import pandas as pd \n",
        "import matplotlib.pyplot as plt \n",
        "import seaborn as sns "
      ],
      "execution_count": 18,
      "outputs": []
    },
    {
      "cell_type": "code",
      "metadata": {
        "id": "DU3ZUOcP2g0a"
      },
      "source": [
        "from sklearn.datasets import make_classification"
      ],
      "execution_count": 3,
      "outputs": []
    },
    {
      "cell_type": "code",
      "metadata": {
        "id": "4x0f0CZT2p7C"
      },
      "source": [
        "X, y = make_classification(n_samples=2000 , n_classes=2 , weights=[1,1] , random_state=1)"
      ],
      "execution_count": 4,
      "outputs": []
    },
    {
      "cell_type": "code",
      "metadata": {
        "colab": {
          "base_uri": "https://localhost:8080/"
        },
        "id": "H-f9MTuD2_Yq",
        "outputId": "8184ca54-a080-468a-d1d5-e33c736ff8a2"
      },
      "source": [
        "X.shape"
      ],
      "execution_count": 5,
      "outputs": [
        {
          "output_type": "execute_result",
          "data": {
            "text/plain": [
              "(2000, 20)"
            ]
          },
          "metadata": {},
          "execution_count": 5
        }
      ]
    },
    {
      "cell_type": "code",
      "metadata": {
        "id": "pPEuJ7h-3Djo"
      },
      "source": [
        "from sklearn.model_selection import train_test_split \n",
        "X_train , X_test , y_train , y_test = train_test_split(X , y , test_size=0.3 , random_state=1 )"
      ],
      "execution_count": 6,
      "outputs": []
    },
    {
      "cell_type": "code",
      "metadata": {
        "id": "pz0Gggi73aQY"
      },
      "source": [
        "from sklearn.metrics import roc_curve\n",
        "from sklearn.metrics import roc_auc_score"
      ],
      "execution_count": 7,
      "outputs": []
    },
    {
      "cell_type": "markdown",
      "metadata": {
        "id": "gz5Fx-E13oq8"
      },
      "source": [
        "***apllication of different models:***"
      ]
    },
    {
      "cell_type": "markdown",
      "metadata": {
        "id": "1QM1Ss7e3uMI"
      },
      "source": [
        "***1. Random Forest***"
      ]
    },
    {
      "cell_type": "code",
      "metadata": {
        "colab": {
          "base_uri": "https://localhost:8080/"
        },
        "id": "HEGyqJht3tHj",
        "outputId": "d84fbadf-287a-4f98-d194-e6a65c218922"
      },
      "source": [
        "from sklearn.ensemble import RandomForestClassifier\n",
        "rf_clf = RandomForestClassifier()\n",
        "rf_clf.fit(X_train , y_train)\n",
        "y_train_pred = rf_clf.predict_proba(X_train)\n",
        "print(\"RF-MODEL TRAIN ROC-AUC :{}\".format(roc_auc_score(y_train , y_train_pred[: , 1])))\n",
        "y_test_pred = rf_clf.predict_proba(X_test)\n",
        "print(\"rf-model test roc-auc:{}\".format(roc_auc_score(y_test , y_test_pred[:,1])))"
      ],
      "execution_count": 8,
      "outputs": [
        {
          "output_type": "stream",
          "name": "stdout",
          "text": [
            "RF-MODEL TRAIN ROC-AUC :1.0\n",
            "rf-model test roc-auc:0.9834166666666666\n"
          ]
        }
      ]
    },
    {
      "cell_type": "markdown",
      "metadata": {
        "id": "-2BD5tt95Fa3"
      },
      "source": [
        "***2.Logistic Regression:***"
      ]
    },
    {
      "cell_type": "code",
      "metadata": {
        "colab": {
          "base_uri": "https://localhost:8080/"
        },
        "id": "rLt_FExF5Nji",
        "outputId": "9a1c24dd-5c7b-465e-b73b-7066b7864219"
      },
      "source": [
        "from sklearn.linear_model import LogisticRegression\n",
        "lr_clf = LogisticRegression()\n",
        "lr_clf.fit(X_train , y_train)\n",
        "y_train_pred = lr_clf.predict_proba(X_train)\n",
        "print(\"lr_clf train roc-auc:{}\".format(roc_auc_score(y_train,y_train_pred[:,1])))\n",
        "y_test_pred = lr_clf.predict_proba(X_test)\n",
        "print(\"lr_clf test roc-auc:{}\".format(roc_auc_score(y_test , y_test_pred[:,1])))"
      ],
      "execution_count": 9,
      "outputs": [
        {
          "output_type": "stream",
          "name": "stdout",
          "text": [
            "lr_clf train roc-auc:0.9863568922694498\n",
            "lr_clf test roc-auc:0.9885777777777777\n"
          ]
        }
      ]
    },
    {
      "cell_type": "markdown",
      "metadata": {
        "id": "SobJ8pNH9MjF"
      },
      "source": [
        "***3.AdaBoost Classifier:***"
      ]
    },
    {
      "cell_type": "code",
      "metadata": {
        "colab": {
          "base_uri": "https://localhost:8080/"
        },
        "id": "wenCpeVb9J0q",
        "outputId": "9d40f5c3-acb2-444b-cda2-6d02c35b0ce5"
      },
      "source": [
        "from sklearn.ensemble import AdaBoostClassifier \n",
        "ada_clf = AdaBoostClassifier()\n",
        "ada_clf.fit(X_train , y_train)\n",
        "y_train_pred = ada_clf.predict_proba(X_train)\n",
        "print(\"ada_clf train roc-auc:{}\".format(roc_auc_score(y_train,y_train_pred[:,1])))\n",
        "y_test_pred = ada_clf.predict_proba(X_test)\n",
        "print(\"ada_clf test roc-auc:{}\".format(roc_auc_score(y_test , y_test_pred[:,1])))\n"
      ],
      "execution_count": 10,
      "outputs": [
        {
          "output_type": "stream",
          "name": "stdout",
          "text": [
            "ada_clf train roc-auc:0.9975081174960356\n",
            "ada_clf test roc-auc:0.9826111111111111\n"
          ]
        }
      ]
    },
    {
      "cell_type": "markdown",
      "metadata": {
        "id": "EJ4q7tKz985T"
      },
      "source": [
        "***4.KNN CLASSIFIER / KNeighborsClassifier:***"
      ]
    },
    {
      "cell_type": "code",
      "metadata": {
        "colab": {
          "base_uri": "https://localhost:8080/"
        },
        "id": "v-A6xKK398Sq",
        "outputId": "b9aa55f7-2ad0-4229-8be9-cb4fb346dc04"
      },
      "source": [
        "from sklearn.neighbors import KNeighborsClassifier\n",
        "kn_clf = KNeighborsClassifier()\n",
        "kn_clf.fit(X_train , y_train)\n",
        "y_train_pred= kn_clf.predict_proba(X_train)\n",
        "print(\"kn_clf train roc-auc:{}\".format(roc_auc_score(y_train,y_train_pred[:,1])))\n",
        "y_test_pred = kn_clf.predict_proba(X_test)\n",
        "print(\"kn_clf test roc-auc:{}\".format(roc_auc_score(y_test , y_test_pred[:,1])))\n"
      ],
      "execution_count": 11,
      "outputs": [
        {
          "output_type": "stream",
          "name": "stdout",
          "text": [
            "kn_clf train roc-auc:0.981670071491109\n",
            "kn_clf test roc-auc:0.9426111111111111\n"
          ]
        }
      ]
    },
    {
      "cell_type": "markdown",
      "metadata": {
        "id": "vQbyWA0j_HiK"
      },
      "source": [
        "***Now we will focus on selecting the best threshold for maximum accuracy***"
      ]
    },
    {
      "cell_type": "code",
      "metadata": {
        "colab": {
          "base_uri": "https://localhost:8080/"
        },
        "id": "S_0e2a-z_O3Z",
        "outputId": "8d956fd9-4e81-4cb6-920a-5cbf9f515548"
      },
      "source": [
        "pred = []\n",
        "for  model in [rf_clf , lr_clf , ada_clf , kn_clf]:\n",
        "  pred.append(pd.Series(model.predict_proba(X_test)[:, 1]))\n",
        "final_prediction = pd.concat(pred , axis=1).mean(axis=1)\n",
        "print('Ensemble test roc-auc: {}'.format(roc_auc_score(y_test,final_prediction)))\n",
        "\n"
      ],
      "execution_count": 12,
      "outputs": [
        {
          "output_type": "stream",
          "name": "stdout",
          "text": [
            "Ensemble test roc-auc: 0.9851777777777777\n"
          ]
        }
      ]
    },
    {
      "cell_type": "code",
      "metadata": {
        "colab": {
          "base_uri": "https://localhost:8080/",
          "height": 419
        },
        "id": "RPj86yN-LZ_z",
        "outputId": "4aa0de08-6506-412b-a519-f2a004df4514"
      },
      "source": [
        "pd.concat(pred,axis=1)"
      ],
      "execution_count": 13,
      "outputs": [
        {
          "output_type": "execute_result",
          "data": {
            "text/html": [
              "<div>\n",
              "<style scoped>\n",
              "    .dataframe tbody tr th:only-of-type {\n",
              "        vertical-align: middle;\n",
              "    }\n",
              "\n",
              "    .dataframe tbody tr th {\n",
              "        vertical-align: top;\n",
              "    }\n",
              "\n",
              "    .dataframe thead th {\n",
              "        text-align: right;\n",
              "    }\n",
              "</style>\n",
              "<table border=\"1\" class=\"dataframe\">\n",
              "  <thead>\n",
              "    <tr style=\"text-align: right;\">\n",
              "      <th></th>\n",
              "      <th>0</th>\n",
              "      <th>1</th>\n",
              "      <th>2</th>\n",
              "      <th>3</th>\n",
              "    </tr>\n",
              "  </thead>\n",
              "  <tbody>\n",
              "    <tr>\n",
              "      <th>0</th>\n",
              "      <td>0.99</td>\n",
              "      <td>0.991861</td>\n",
              "      <td>0.559186</td>\n",
              "      <td>1.0</td>\n",
              "    </tr>\n",
              "    <tr>\n",
              "      <th>1</th>\n",
              "      <td>0.00</td>\n",
              "      <td>0.000008</td>\n",
              "      <td>0.463282</td>\n",
              "      <td>0.0</td>\n",
              "    </tr>\n",
              "    <tr>\n",
              "      <th>2</th>\n",
              "      <td>0.98</td>\n",
              "      <td>0.966929</td>\n",
              "      <td>0.538202</td>\n",
              "      <td>0.8</td>\n",
              "    </tr>\n",
              "    <tr>\n",
              "      <th>3</th>\n",
              "      <td>0.93</td>\n",
              "      <td>0.761539</td>\n",
              "      <td>0.509875</td>\n",
              "      <td>0.8</td>\n",
              "    </tr>\n",
              "    <tr>\n",
              "      <th>4</th>\n",
              "      <td>0.64</td>\n",
              "      <td>0.779443</td>\n",
              "      <td>0.490344</td>\n",
              "      <td>0.4</td>\n",
              "    </tr>\n",
              "    <tr>\n",
              "      <th>...</th>\n",
              "      <td>...</td>\n",
              "      <td>...</td>\n",
              "      <td>...</td>\n",
              "      <td>...</td>\n",
              "    </tr>\n",
              "    <tr>\n",
              "      <th>595</th>\n",
              "      <td>0.00</td>\n",
              "      <td>0.024239</td>\n",
              "      <td>0.461121</td>\n",
              "      <td>0.0</td>\n",
              "    </tr>\n",
              "    <tr>\n",
              "      <th>596</th>\n",
              "      <td>0.02</td>\n",
              "      <td>0.000003</td>\n",
              "      <td>0.441377</td>\n",
              "      <td>0.0</td>\n",
              "    </tr>\n",
              "    <tr>\n",
              "      <th>597</th>\n",
              "      <td>0.99</td>\n",
              "      <td>0.984385</td>\n",
              "      <td>0.532403</td>\n",
              "      <td>1.0</td>\n",
              "    </tr>\n",
              "    <tr>\n",
              "      <th>598</th>\n",
              "      <td>0.00</td>\n",
              "      <td>0.001147</td>\n",
              "      <td>0.441720</td>\n",
              "      <td>0.2</td>\n",
              "    </tr>\n",
              "    <tr>\n",
              "      <th>599</th>\n",
              "      <td>0.99</td>\n",
              "      <td>0.989540</td>\n",
              "      <td>0.559890</td>\n",
              "      <td>0.8</td>\n",
              "    </tr>\n",
              "  </tbody>\n",
              "</table>\n",
              "<p>600 rows × 4 columns</p>\n",
              "</div>"
            ],
            "text/plain": [
              "        0         1         2    3\n",
              "0    0.99  0.991861  0.559186  1.0\n",
              "1    0.00  0.000008  0.463282  0.0\n",
              "2    0.98  0.966929  0.538202  0.8\n",
              "3    0.93  0.761539  0.509875  0.8\n",
              "4    0.64  0.779443  0.490344  0.4\n",
              "..    ...       ...       ...  ...\n",
              "595  0.00  0.024239  0.461121  0.0\n",
              "596  0.02  0.000003  0.441377  0.0\n",
              "597  0.99  0.984385  0.532403  1.0\n",
              "598  0.00  0.001147  0.441720  0.2\n",
              "599  0.99  0.989540  0.559890  0.8\n",
              "\n",
              "[600 rows x 4 columns]"
            ]
          },
          "metadata": {},
          "execution_count": 13
        }
      ]
    },
    {
      "cell_type": "code",
      "metadata": {
        "colab": {
          "base_uri": "https://localhost:8080/",
          "height": 419
        },
        "id": "9zDbiSaUvahB",
        "outputId": "06e3fa22-453d-497d-84b7-9f65bedd2895"
      },
      "source": [
        "pd.concat(pred , axis=1)"
      ],
      "execution_count": 14,
      "outputs": [
        {
          "output_type": "execute_result",
          "data": {
            "text/html": [
              "<div>\n",
              "<style scoped>\n",
              "    .dataframe tbody tr th:only-of-type {\n",
              "        vertical-align: middle;\n",
              "    }\n",
              "\n",
              "    .dataframe tbody tr th {\n",
              "        vertical-align: top;\n",
              "    }\n",
              "\n",
              "    .dataframe thead th {\n",
              "        text-align: right;\n",
              "    }\n",
              "</style>\n",
              "<table border=\"1\" class=\"dataframe\">\n",
              "  <thead>\n",
              "    <tr style=\"text-align: right;\">\n",
              "      <th></th>\n",
              "      <th>0</th>\n",
              "      <th>1</th>\n",
              "      <th>2</th>\n",
              "      <th>3</th>\n",
              "    </tr>\n",
              "  </thead>\n",
              "  <tbody>\n",
              "    <tr>\n",
              "      <th>0</th>\n",
              "      <td>0.99</td>\n",
              "      <td>0.991861</td>\n",
              "      <td>0.559186</td>\n",
              "      <td>1.0</td>\n",
              "    </tr>\n",
              "    <tr>\n",
              "      <th>1</th>\n",
              "      <td>0.00</td>\n",
              "      <td>0.000008</td>\n",
              "      <td>0.463282</td>\n",
              "      <td>0.0</td>\n",
              "    </tr>\n",
              "    <tr>\n",
              "      <th>2</th>\n",
              "      <td>0.98</td>\n",
              "      <td>0.966929</td>\n",
              "      <td>0.538202</td>\n",
              "      <td>0.8</td>\n",
              "    </tr>\n",
              "    <tr>\n",
              "      <th>3</th>\n",
              "      <td>0.93</td>\n",
              "      <td>0.761539</td>\n",
              "      <td>0.509875</td>\n",
              "      <td>0.8</td>\n",
              "    </tr>\n",
              "    <tr>\n",
              "      <th>4</th>\n",
              "      <td>0.64</td>\n",
              "      <td>0.779443</td>\n",
              "      <td>0.490344</td>\n",
              "      <td>0.4</td>\n",
              "    </tr>\n",
              "    <tr>\n",
              "      <th>...</th>\n",
              "      <td>...</td>\n",
              "      <td>...</td>\n",
              "      <td>...</td>\n",
              "      <td>...</td>\n",
              "    </tr>\n",
              "    <tr>\n",
              "      <th>595</th>\n",
              "      <td>0.00</td>\n",
              "      <td>0.024239</td>\n",
              "      <td>0.461121</td>\n",
              "      <td>0.0</td>\n",
              "    </tr>\n",
              "    <tr>\n",
              "      <th>596</th>\n",
              "      <td>0.02</td>\n",
              "      <td>0.000003</td>\n",
              "      <td>0.441377</td>\n",
              "      <td>0.0</td>\n",
              "    </tr>\n",
              "    <tr>\n",
              "      <th>597</th>\n",
              "      <td>0.99</td>\n",
              "      <td>0.984385</td>\n",
              "      <td>0.532403</td>\n",
              "      <td>1.0</td>\n",
              "    </tr>\n",
              "    <tr>\n",
              "      <th>598</th>\n",
              "      <td>0.00</td>\n",
              "      <td>0.001147</td>\n",
              "      <td>0.441720</td>\n",
              "      <td>0.2</td>\n",
              "    </tr>\n",
              "    <tr>\n",
              "      <th>599</th>\n",
              "      <td>0.99</td>\n",
              "      <td>0.989540</td>\n",
              "      <td>0.559890</td>\n",
              "      <td>0.8</td>\n",
              "    </tr>\n",
              "  </tbody>\n",
              "</table>\n",
              "<p>600 rows × 4 columns</p>\n",
              "</div>"
            ],
            "text/plain": [
              "        0         1         2    3\n",
              "0    0.99  0.991861  0.559186  1.0\n",
              "1    0.00  0.000008  0.463282  0.0\n",
              "2    0.98  0.966929  0.538202  0.8\n",
              "3    0.93  0.761539  0.509875  0.8\n",
              "4    0.64  0.779443  0.490344  0.4\n",
              "..    ...       ...       ...  ...\n",
              "595  0.00  0.024239  0.461121  0.0\n",
              "596  0.02  0.000003  0.441377  0.0\n",
              "597  0.99  0.984385  0.532403  1.0\n",
              "598  0.00  0.001147  0.441720  0.2\n",
              "599  0.99  0.989540  0.559890  0.8\n",
              "\n",
              "[600 rows x 4 columns]"
            ]
          },
          "metadata": {},
          "execution_count": 14
        }
      ]
    },
    {
      "cell_type": "code",
      "metadata": {
        "colab": {
          "base_uri": "https://localhost:8080/"
        },
        "id": "iGFtLfS_v5u3",
        "outputId": "74873014-c0bf-48c9-eeb0-562b538db0cc"
      },
      "source": [
        "final_prediction"
      ],
      "execution_count": 15,
      "outputs": [
        {
          "output_type": "execute_result",
          "data": {
            "text/plain": [
              "0      0.885262\n",
              "1      0.115823\n",
              "2      0.821283\n",
              "3      0.750353\n",
              "4      0.577447\n",
              "         ...   \n",
              "595    0.121340\n",
              "596    0.115345\n",
              "597    0.876697\n",
              "598    0.160717\n",
              "599    0.834857\n",
              "Length: 600, dtype: float64"
            ]
          },
          "metadata": {},
          "execution_count": 15
        }
      ]
    },
    {
      "cell_type": "markdown",
      "metadata": {
        "id": "jlxTJj0owTqC"
      },
      "source": [
        "***Calculate the ROc Curve***"
      ]
    },
    {
      "cell_type": "code",
      "metadata": {
        "colab": {
          "base_uri": "https://localhost:8080/"
        },
        "id": "C1ikEExvv-Y-",
        "outputId": "d517c01a-0491-42d1-d1e4-696d7b07e24a"
      },
      "source": [
        "fpr , tpr , thresholds = roc_curve(y_test , final_prediction)\n",
        "thresholds"
      ],
      "execution_count": 16,
      "outputs": [
        {
          "output_type": "execute_result",
          "data": {
            "text/plain": [
              "array([1.9109413 , 0.9109413 , 0.90373256, 0.90327475, 0.80287052,\n",
              "       0.80162833, 0.79627646, 0.7930558 , 0.78347738, 0.78321156,\n",
              "       0.77175879, 0.76787124, 0.75141018, 0.75137362, 0.70845844,\n",
              "       0.70393711, 0.6792442 , 0.67743537, 0.61744697, 0.61550386,\n",
              "       0.59712652, 0.59675354, 0.59146627, 0.59114346, 0.57149047,\n",
              "       0.56986186, 0.56838469, 0.56389283, 0.54865858, 0.54719563,\n",
              "       0.54605932, 0.49616892, 0.46950602, 0.46794916, 0.4446034 ,\n",
              "       0.41764281, 0.40879719, 0.35934818, 0.35336612, 0.2244954 ,\n",
              "       0.22390421, 0.21540022, 0.21396893, 0.20483682, 0.20348417,\n",
              "       0.12833353, 0.1278351 , 0.10498954])"
            ]
          },
          "metadata": {},
          "execution_count": 16
        }
      ]
    },
    {
      "cell_type": "code",
      "metadata": {
        "colab": {
          "base_uri": "https://localhost:8080/",
          "height": 204
        },
        "id": "qPkJehgZwWN9",
        "outputId": "65373779-3332-455a-b421-564c8bfa4b50"
      },
      "source": [
        "from sklearn.metrics import accuracy_score \n",
        "accuracy_ls = []\n",
        "for thres in thresholds :\n",
        "  y_pred = np.where( final_prediction > thres , 1 ,0)\n",
        "  accuracy_ls.append(accuracy_score(y_test , y_pred , normalize=True))\n",
        "\n",
        "accuracy_ls = pd.concat([pd.Series(thresholds) , pd.Series(accuracy_ls)] , axis=1)\n",
        "accuracy_ls.columns = ['Thresholds ' , 'accuracy']\n",
        "accuracy_ls.sort_values(by='accuracy' , ascending=False , inplace = True )\n",
        "accuracy_ls.head()"
      ],
      "execution_count": 17,
      "outputs": [
        {
          "output_type": "execute_result",
          "data": {
            "text/html": [
              "<div>\n",
              "<style scoped>\n",
              "    .dataframe tbody tr th:only-of-type {\n",
              "        vertical-align: middle;\n",
              "    }\n",
              "\n",
              "    .dataframe tbody tr th {\n",
              "        vertical-align: top;\n",
              "    }\n",
              "\n",
              "    .dataframe thead th {\n",
              "        text-align: right;\n",
              "    }\n",
              "</style>\n",
              "<table border=\"1\" class=\"dataframe\">\n",
              "  <thead>\n",
              "    <tr style=\"text-align: right;\">\n",
              "      <th></th>\n",
              "      <th>Thresholds</th>\n",
              "      <th>accuracy</th>\n",
              "    </tr>\n",
              "  </thead>\n",
              "  <tbody>\n",
              "    <tr>\n",
              "      <th>34</th>\n",
              "      <td>0.444603</td>\n",
              "      <td>0.960000</td>\n",
              "    </tr>\n",
              "    <tr>\n",
              "      <th>29</th>\n",
              "      <td>0.547196</td>\n",
              "      <td>0.960000</td>\n",
              "    </tr>\n",
              "    <tr>\n",
              "      <th>27</th>\n",
              "      <td>0.563893</td>\n",
              "      <td>0.960000</td>\n",
              "    </tr>\n",
              "    <tr>\n",
              "      <th>25</th>\n",
              "      <td>0.569862</td>\n",
              "      <td>0.960000</td>\n",
              "    </tr>\n",
              "    <tr>\n",
              "      <th>24</th>\n",
              "      <td>0.571490</td>\n",
              "      <td>0.958333</td>\n",
              "    </tr>\n",
              "  </tbody>\n",
              "</table>\n",
              "</div>"
            ],
            "text/plain": [
              "    Thresholds   accuracy\n",
              "34     0.444603  0.960000\n",
              "29     0.547196  0.960000\n",
              "27     0.563893  0.960000\n",
              "25     0.569862  0.960000\n",
              "24     0.571490  0.958333"
            ]
          },
          "metadata": {},
          "execution_count": 17
        }
      ]
    },
    {
      "cell_type": "markdown",
      "metadata": {
        "id": "s6fPFtSl5FYS"
      },
      "source": [
        ""
      ]
    },
    {
      "cell_type": "code",
      "metadata": {
        "id": "T3Ggf7xg0-ep"
      },
      "source": [
        "def plot_roc_curve(fpr , tpr):\n",
        "    plt.plot(fpr, tpr, color='orange', label='ROC')\n",
        "    plt.plot([0, 1], [0, 1], color='darkblue', linestyle='--')\n",
        "    plt.xlabel('False Positive Rate')\n",
        "    plt.ylabel('True Positive Rate')\n",
        "    plt.title('Receiver Operating Characteristic (ROC) Curve')\n",
        "    plt.legend()\n",
        "    plt.show()"
      ],
      "execution_count": 21,
      "outputs": []
    },
    {
      "cell_type": "code",
      "metadata": {
        "colab": {
          "base_uri": "https://localhost:8080/",
          "height": 295
        },
        "id": "qkNlHn-t1p_o",
        "outputId": "0234300a-d65c-4517-dbfa-13b35fdc36d6"
      },
      "source": [
        "plot_roc_curve(fpr,tpr)"
      ],
      "execution_count": 22,
      "outputs": [
        {
          "output_type": "display_data",
          "data": {
            "image/png": "[encoded data removed]",
            "text/plain": [
              "<Figure size 432x288 with 1 Axes>"
            ]
          },
          "metadata": {
            "needs_background": "light"
          }
        }
      ]
    }
  ]
}